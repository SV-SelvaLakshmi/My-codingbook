{
  "nbformat": 4,
  "nbformat_minor": 0,
  "metadata": {
    "colab": {
      "name": "Learn python .ipynb",
      "provenance": [],
      "collapsed_sections": [],
      "authorship_tag": "ABX9TyO90VUXP2L3owl1fu3OcFks",
      "include_colab_link": true
    },
    "kernelspec": {
      "name": "python3",
      "display_name": "Python 3"
    }
  },
  "cells": [
    {
      "cell_type": "markdown",
      "metadata": {
        "id": "view-in-github",
        "colab_type": "text"
      },
      "source": [
        "<a href=\"https://colab.research.google.com/github/SV-SelvaLakshmi/My-codingbook/blob/master/Learn_python_.ipynb\" target=\"_parent\"><img src=\"https://colab.research.google.com/assets/colab-badge.svg\" alt=\"Open In Colab\"/></a>"
      ]
    },
    {
      "cell_type": "code",
      "metadata": {
        "colab": {
          "base_uri": "https://localhost:8080/"
        },
        "id": "KZWvYh3xKLXy",
        "outputId": "61eca3ef-fcf4-4cf3-fc67-67b46b37cc85"
      },
      "source": [
        "print(\"Hello World !\")"
      ],
      "execution_count": 1,
      "outputs": [
        {
          "output_type": "stream",
          "text": [
            "Hello World !\n"
          ],
          "name": "stdout"
        }
      ]
    },
    {
      "cell_type": "code",
      "metadata": {
        "colab": {
          "base_uri": "https://localhost:8080/"
        },
        "id": "WPsqiVaaKPM4",
        "outputId": "6f6fa196-7c0c-4884-e2a5-f8d52e58bb81"
      },
      "source": [
        "print(\"Hai Iam new to Google colab ! It's amazing \")"
      ],
      "execution_count": 2,
      "outputs": [
        {
          "output_type": "stream",
          "text": [
            "Hai Iam new to Google colab ! It's amazing \n"
          ],
          "name": "stdout"
        }
      ]
    },
    {
      "cell_type": "code",
      "metadata": {
        "colab": {
          "base_uri": "https://localhost:8080/"
        },
        "id": "VC6rC7S-LVAK",
        "outputId": "adf31448-1ed9-4963-80e5-7e0e0eba7ca4"
      },
      "source": [
        "# Generating Triangle Shape\n",
        "def triangleShape(n):\n",
        "    for i in range(n):\n",
        "        for j in range(n-i):\n",
        "            print(' ', end=' ')\n",
        "        for k in range(2*i+1):\n",
        "            print('*',end=' ')\n",
        "        print()\n",
        "\n",
        "# Generating Pole Shape\n",
        "def poleShape(n):\n",
        "    for i in range(n):\n",
        "        for j in range(n-1):\n",
        "            print(' ', end=' ')\n",
        "        print('* * *')\n",
        "\n",
        "# Input and Function Call\n",
        "row = int(input('Enter number of rows: '))\n",
        "\n",
        "triangleShape(row)\n",
        "triangleShape(row)\n",
        "poleShape(row)"
      ],
      "execution_count": 5,
      "outputs": [
        {
          "output_type": "stream",
          "text": [
            "Enter number of rows: 3\n",
            "      * \n",
            "    * * * \n",
            "  * * * * * \n",
            "      * \n",
            "    * * * \n",
            "  * * * * * \n",
            "    * * *\n",
            "    * * *\n",
            "    * * *\n"
          ],
          "name": "stdout"
        }
      ]
    },
    {
      "cell_type": "markdown",
      "metadata": {
        "id": "_4qE_3VKOgEc"
      },
      "source": [
        "Merry Christmax !"
      ]
    },
    {
      "cell_type": "code",
      "metadata": {
        "colab": {
          "base_uri": "https://localhost:8080/"
        },
        "id": "YDz2IsXOPyA7",
        "outputId": "88d0e4b6-6277-47c5-ac71-2d8b60d41629"
      },
      "source": [
        "s = \"python\"\n",
        "f= \"Python is mine\"\n",
        "if s in f:\n",
        "  print(\"y\")\n",
        "else:\n",
        "  print(\"n\")"
      ],
      "execution_count": 13,
      "outputs": [
        {
          "output_type": "stream",
          "text": [
            "n\n"
          ],
          "name": "stdout"
        }
      ]
    },
    {
      "cell_type": "code",
      "metadata": {
        "id": "lAyJUFfCgPug"
      },
      "source": [
        ""
      ],
      "execution_count": null,
      "outputs": []
    }
  ]
}